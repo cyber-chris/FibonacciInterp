{
 "cells": [
  {
   "cell_type": "code",
   "execution_count": 69,
   "metadata": {},
   "outputs": [],
   "source": [
    "# Import stuff\n",
    "import torch\n",
    "import torch.nn as nn\n",
    "import torch.nn.functional as F\n",
    "import einops\n",
    "from fancy_einsum import einsum\n",
    "import tqdm.auto as tqdm\n",
    "import plotly.express as px\n",
    "import numpy as np\n",
    "from dataclasses import dataclass\n",
    "import matplotlib.pyplot as plt\n",
    "\n",
    "import os\n",
    "import datetime\n",
    "import pickle\n",
    "import random\n",
    "\n",
    "from jaxtyping import Float\n",
    "from functools import partial\n",
    "\n",
    "import wandb"
   ]
  },
  {
   "cell_type": "code",
   "execution_count": 70,
   "metadata": {},
   "outputs": [],
   "source": [
    "import transformer_lens"
   ]
  },
  {
   "cell_type": "code",
   "execution_count": 71,
   "metadata": {},
   "outputs": [],
   "source": [
    "DEVICE=\"cuda\""
   ]
  },
  {
   "cell_type": "code",
   "execution_count": 72,
   "metadata": {},
   "outputs": [],
   "source": [
    "N_CTX = 64\n",
    "D_VOCAB = 11  # 10 digits and a comma\n",
    "cfg = transformer_lens.HookedTransformerConfig(\n",
    "    n_layers=2,\n",
    "    d_model=128,\n",
    "    n_ctx=N_CTX,\n",
    "    d_head=32,\n",
    "    n_heads=4,\n",
    "    d_mlp=None,\n",
    "    d_vocab=D_VOCAB,\n",
    "    act_fn=\"relu\",\n",
    "    seed=42,\n",
    "    device=DEVICE,\n",
    "    attn_only=True,\n",
    ")\n",
    "model = transformer_lens.HookedTransformer(cfg, move_to_device=True)"
   ]
  },
  {
   "cell_type": "code",
   "execution_count": 73,
   "metadata": {},
   "outputs": [],
   "source": [
    "def load_model_state(model: transformer_lens.HookedTransformer, filename: str):\n",
    "    assert os.path.isdir(\"models\"), \"Make a directory `models` with model state dicts\"\n",
    "    if not filename.startswith(\"models/\"):\n",
    "        filename = f\"models/{filename}\"\n",
    "    with open(filename, \"rb\") as f:\n",
    "        state_dict = pickle.load(f)\n",
    "    model.load_state_dict(state_dict)\n",
    "\n",
    "load_model_state(model, \"addition_model_state_dict_2024-06-21T15-07.pkl\")"
   ]
  },
  {
   "cell_type": "code",
   "execution_count": 74,
   "metadata": {},
   "outputs": [],
   "source": [
    "def tokenize(c: str):\n",
    "    return ord(c) - ord(\"0\") if c.isdigit() else 10  # 10 is comma\n",
    "\n",
    "def str_to_tokens(seq_str):\n",
    "    return torch.tensor([tokenize(c) for c in seq_str], device=DEVICE)"
   ]
  },
  {
   "cell_type": "code",
   "execution_count": 75,
   "metadata": {},
   "outputs": [
    {
     "data": {
      "text/plain": [
       "(1000,\n",
       " (tensor([10, 10, 10, 10, 10, 10, 10, 10, 10, 10, 10, 10, 10, 10, 10, 10, 10, 10,\n",
       "          10, 10, 10, 10, 10, 10, 10, 10, 10, 10, 10, 10, 10, 10, 10, 10, 10, 10,\n",
       "          10, 10, 10, 10, 10, 10, 10, 10, 10, 10, 10, 10, 10, 10, 10, 10, 10, 10,\n",
       "           0,  1,  1,  4, 10,  0,  0,  2,  5, 10], device='cuda:0'),\n",
       "  139))"
      ]
     },
     "execution_count": 75,
     "metadata": {},
     "output_type": "execute_result"
    }
   ],
   "source": [
    "tests = []\n",
    "\n",
    "for _ in range(1000):\n",
    "    a = random.randint(0, 500)\n",
    "    b = random.randint(0, 500)\n",
    "    test_example = f\"{str(a).zfill(4)},{str(b).zfill(4)},\"\n",
    "    example_toks = str_to_tokens(test_example)\n",
    "    if len(example_toks) < cfg.n_ctx:\n",
    "        example_toks = F.pad(example_toks, (cfg.n_ctx - len(example_toks), 0), value=10)\n",
    "\n",
    "    expected = a + b\n",
    "    tests.append((example_toks, expected))\n",
    "\n",
    "len(tests), tests[0]"
   ]
  },
  {
   "cell_type": "code",
   "execution_count": 76,
   "metadata": {},
   "outputs": [
    {
     "data": {
      "text/plain": [
       "(989,\n",
       " [(tensor([10, 10, 10, 10, 10, 10, 10, 10, 10, 10, 10, 10, 10, 10, 10, 10, 10, 10,\n",
       "           10, 10, 10, 10, 10, 10, 10, 10, 10, 10, 10, 10, 10, 10, 10, 10, 10, 10,\n",
       "           10, 10, 10, 10, 10, 10, 10, 10, 10, 10, 10, 10, 10, 10, 10, 10, 10, 10,\n",
       "            0,  5,  9,  7, 10,  0,  4,  0,  8, 10], device='cuda:0'),\n",
       "   1005,\n",
       "   ['0', '9', '0', '5']),\n",
       "  (tensor([10, 10, 10, 10, 10, 10, 10, 10, 10, 10, 10, 10, 10, 10, 10, 10, 10, 10,\n",
       "           10, 10, 10, 10, 10, 10, 10, 10, 10, 10, 10, 10, 10, 10, 10, 10, 10, 10,\n",
       "           10, 10, 10, 10, 10, 10, 10, 10, 10, 10, 10, 10, 10, 10, 10, 10, 10, 10,\n",
       "            0,  5,  4,  9, 10,  0,  4,  5,  9, 10], device='cuda:0'),\n",
       "   1008,\n",
       "   ['0', '9', '0', '8']),\n",
       "  (tensor([10, 10, 10, 10, 10, 10, 10, 10, 10, 10, 10, 10, 10, 10, 10, 10, 10, 10,\n",
       "           10, 10, 10, 10, 10, 10, 10, 10, 10, 10, 10, 10, 10, 10, 10, 10, 10, 10,\n",
       "           10, 10, 10, 10, 10, 10, 10, 10, 10, 10, 10, 10, 10, 10, 10, 10, 10, 10,\n",
       "            0,  4,  8,  8, 10,  0,  5,  1,  4, 10], device='cuda:0'),\n",
       "   1002,\n",
       "   ['0', '9', '0', '2']),\n",
       "  (tensor([10, 10, 10, 10, 10, 10, 10, 10, 10, 10, 10, 10, 10, 10, 10, 10, 10, 10,\n",
       "           10, 10, 10, 10, 10, 10, 10, 10, 10, 10, 10, 10, 10, 10, 10, 10, 10, 10,\n",
       "           10, 10, 10, 10, 10, 10, 10, 10, 10, 10, 10, 10, 10, 10, 10, 10, 10, 10,\n",
       "            0,  4,  4,  8, 10,  0,  5,  5,  6, 10], device='cuda:0'),\n",
       "   1004,\n",
       "   ['0', '0', '0', '4']),\n",
       "  (tensor([10, 10, 10, 10, 10, 10, 10, 10, 10, 10, 10, 10, 10, 10, 10, 10, 10, 10,\n",
       "           10, 10, 10, 10, 10, 10, 10, 10, 10, 10, 10, 10, 10, 10, 10, 10, 10, 10,\n",
       "           10, 10, 10, 10, 10, 10, 10, 10, 10, 10, 10, 10, 10, 10, 10, 10, 10, 10,\n",
       "            0,  5,  6,  4, 10,  0,  4,  3,  7, 10], device='cuda:0'),\n",
       "   1001,\n",
       "   ['0', '9', '0', '1']),\n",
       "  (tensor([10, 10, 10, 10, 10, 10, 10, 10, 10, 10, 10, 10, 10, 10, 10, 10, 10, 10,\n",
       "           10, 10, 10, 10, 10, 10, 10, 10, 10, 10, 10, 10, 10, 10, 10, 10, 10, 10,\n",
       "           10, 10, 10, 10, 10, 10, 10, 10, 10, 10, 10, 10, 10, 10, 10, 10, 10, 10,\n",
       "            0,  5,  7,  7, 10,  0,  0,  2,  7, 10], device='cuda:0'),\n",
       "   604,\n",
       "   ['0', '5', '0', '4']),\n",
       "  (tensor([10, 10, 10, 10, 10, 10, 10, 10, 10, 10, 10, 10, 10, 10, 10, 10, 10, 10,\n",
       "           10, 10, 10, 10, 10, 10, 10, 10, 10, 10, 10, 10, 10, 10, 10, 10, 10, 10,\n",
       "           10, 10, 10, 10, 10, 10, 10, 10, 10, 10, 10, 10, 10, 10, 10, 10, 10, 10,\n",
       "            0,  5,  7,  1, 10,  0,  4,  2,  6, 10], device='cuda:0'),\n",
       "   997,\n",
       "   ['1', '9', '9', '7']),\n",
       "  (tensor([10, 10, 10, 10, 10, 10, 10, 10, 10, 10, 10, 10, 10, 10, 10, 10, 10, 10,\n",
       "           10, 10, 10, 10, 10, 10, 10, 10, 10, 10, 10, 10, 10, 10, 10, 10, 10, 10,\n",
       "           10, 10, 10, 10, 10, 10, 10, 10, 10, 10, 10, 10, 10, 10, 10, 10, 10, 10,\n",
       "            0,  4,  2,  1, 10,  0,  5,  7,  9, 10], device='cuda:0'),\n",
       "   1000,\n",
       "   ['0', '9', '0', '0']),\n",
       "  (tensor([10, 10, 10, 10, 10, 10, 10, 10, 10, 10, 10, 10, 10, 10, 10, 10, 10, 10,\n",
       "           10, 10, 10, 10, 10, 10, 10, 10, 10, 10, 10, 10, 10, 10, 10, 10, 10, 10,\n",
       "           10, 10, 10, 10, 10, 10, 10, 10, 10, 10, 10, 10, 10, 10, 10, 10, 10, 10,\n",
       "            0,  2,  1,  2, 10,  0,  6,  0,  0, 10], device='cuda:0'),\n",
       "   812,\n",
       "   ['0', '6', '1', '2']),\n",
       "  (tensor([10, 10, 10, 10, 10, 10, 10, 10, 10, 10, 10, 10, 10, 10, 10, 10, 10, 10,\n",
       "           10, 10, 10, 10, 10, 10, 10, 10, 10, 10, 10, 10, 10, 10, 10, 10, 10, 10,\n",
       "           10, 10, 10, 10, 10, 10, 10, 10, 10, 10, 10, 10, 10, 10, 10, 10, 10, 10,\n",
       "            0,  5,  8,  7, 10,  0,  4,  1,  4, 10], device='cuda:0'),\n",
       "   1001,\n",
       "   ['0', '9', '0', '1']),\n",
       "  (tensor([10, 10, 10, 10, 10, 10, 10, 10, 10, 10, 10, 10, 10, 10, 10, 10, 10, 10,\n",
       "           10, 10, 10, 10, 10, 10, 10, 10, 10, 10, 10, 10, 10, 10, 10, 10, 10, 10,\n",
       "           10, 10, 10, 10, 10, 10, 10, 10, 10, 10, 10, 10, 10, 10, 10, 10, 10, 10,\n",
       "            0,  4,  1,  9, 10,  0,  5,  8,  8, 10], device='cuda:0'),\n",
       "   1007,\n",
       "   ['0', '0', '0', '7'])])"
      ]
     },
     "execution_count": 76,
     "metadata": {},
     "output_type": "execute_result"
    }
   ],
   "source": [
    "correct_count = 0\n",
    "incorrect = []\n",
    "for (x, y) in tests:\n",
    "    example_toks = x\n",
    "    logits = model(example_toks)[:, -1, :]\n",
    "    pred = logits.argmax(dim=-1)\n",
    "    digits_ans = [str(pred[0].item())]\n",
    "\n",
    "    for _ in range(3):\n",
    "        example_toks = torch.cat([example_toks[1:], pred], dim=0)\n",
    "        logits = model(example_toks)[:, -1, :]\n",
    "        pred = logits.argmax(dim=-1)\n",
    "        digits_ans.append(str(pred[0].item()))\n",
    "\n",
    "    if y != int(''.join(digits_ans)):\n",
    "        incorrect.append((x, y, digits_ans))\n",
    "    else:\n",
    "        correct_count += 1\n",
    "correct_count, incorrect"
   ]
  },
  {
   "cell_type": "code",
   "execution_count": 77,
   "metadata": {},
   "outputs": [],
   "source": [
    "example_str = f\"0001,0099,\"\n",
    "example_toks = str_to_tokens(example_str)\n",
    "if len(example_toks) < cfg.n_ctx:\n",
    "    example_toks = F.pad(example_toks, (cfg.n_ctx - len(example_toks), 0), value=10)\n",
    "\n",
    "logits, cache = model.run_with_cache(example_toks, remove_batch_dim=True)"
   ]
  },
  {
   "cell_type": "code",
   "execution_count": 78,
   "metadata": {},
   "outputs": [
    {
     "data": {
      "text/plain": [
       "torch.Size([64])"
      ]
     },
     "execution_count": 78,
     "metadata": {},
     "output_type": "execute_result"
    }
   ],
   "source": [
    "example_toks.shape"
   ]
  },
  {
   "cell_type": "code",
   "execution_count": 79,
   "metadata": {},
   "outputs": [
    {
     "name": "stdout",
     "output_type": "stream",
     "text": [
      "torch.Size([4, 64, 64])\n"
     ]
    },
    {
     "data": {
      "text/plain": [
       "<matplotlib.image.AxesImage at 0x7f3420559070>"
      ]
     },
     "execution_count": 79,
     "metadata": {},
     "output_type": "execute_result"
    },
    {
     "data": {
      "image/png": "[encoded data removed]",
      "text/plain": [
       "<Figure size 640x480 with 1 Axes>"
      ]
     },
     "metadata": {},
     "output_type": "display_data"
    }
   ],
   "source": [
    "attn_pattern = cache[\"pattern\", 0, \"attn\"]\n",
    "print(attn_pattern.shape)\n",
    "plt.imshow(attn_pattern[0].cpu())"
   ]
  },
  {
   "cell_type": "code",
   "execution_count": null,
   "metadata": {},
   "outputs": [],
   "source": []
  }
 ],
 "metadata": {
  "kernelspec": {
   "display_name": ".venv",
   "language": "python",
   "name": "python3"
  },
  "language_info": {
   "codemirror_mode": {
    "name": "ipython",
    "version": 3
   },
   "file_extension": ".py",
   "mimetype": "text/x-python",
   "name": "python",
   "nbconvert_exporter": "python",
   "pygments_lexer": "ipython3",
   "version": "3.9.12"
  }
 },
 "nbformat": 4,
 "nbformat_minor": 2
}
